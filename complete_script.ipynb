{
 "cells": [
  {
   "cell_type": "code",
   "execution_count": null,
   "metadata": {},
   "outputs": [],
   "source": []
  },
  {
   "cell_type": "code",
   "execution_count": 1,
   "metadata": {},
   "outputs": [],
   "source": [
    "import os\n",
    "file_name=\"paper.pdf\""
   ]
  },
  {
   "cell_type": "code",
   "execution_count": 2,
   "metadata": {},
   "outputs": [],
   "source": [
    "model=\"smollm\"\n",
    "from langchain_ollama import OllamaLLM\n",
    "model=OllamaLLM(model=model)"
   ]
  },
  {
   "cell_type": "code",
   "execution_count": 3,
   "metadata": {},
   "outputs": [],
   "source": [
    "from langchain_community.document_loaders import PyPDFLoader\n",
    "loader=PyPDFLoader(file_name)\n",
    "pages=loader.load_and_split()\n",
    "# print(f\"the number of pages loaded from the document are: {len(pages)}\\n\\nContent of the first page:{'-'*20} \\n\\n{pages[0]}\")"
   ]
  },
  {
   "cell_type": "code",
   "execution_count": 4,
   "metadata": {},
   "outputs": [],
   "source": [
    "from langchain.prompts import PromptTemplate\n",
    "\n",
    "template = \"\"\" Answer the question asked on the basis of the context provided.\n",
    "If you can not find the answer then just say \"answer is not available in the given text\n",
    "context : {context}\n",
    "Question : {question}\n",
    "\"\"\"\n",
    "prompt= PromptTemplate.from_template(template=template)\n",
    "# print(prompt.format(context=\"Here is the context\", question=\"Here is the question\"))\n"
   ]
  },
  {
   "cell_type": "code",
   "execution_count": 5,
   "metadata": {},
   "outputs": [],
   "source": [
    "from langchain_ollama import OllamaEmbeddings\n",
    "embeddings=OllamaEmbeddings(model=\"smollm\")"
   ]
  },
  {
   "cell_type": "code",
   "execution_count": null,
   "metadata": {},
   "outputs": [],
   "source": [
    "\n",
    "from langchain_community.vectorstores import DocArrayInMemorySearch\n",
    "vector_store=DocArrayInMemorySearch.from_documents(pages, embedding=embeddings)"
   ]
  },
  {
   "cell_type": "code",
   "execution_count": 7,
   "metadata": {},
   "outputs": [],
   "source": [
    "retriever=vector_store.as_retriever()\n",
    "# retriever.invoke(\"What is the result of the study\")"
   ]
  },
  {
   "cell_type": "code",
   "execution_count": 8,
   "metadata": {},
   "outputs": [],
   "source": [
    "from operator import itemgetter\n",
    "\n",
    "chain = ({\n",
    "    \"context\":itemgetter(\"question\") | retriever,\n",
    "    \"question\":itemgetter(\"question\")\n",
    "    }|\n",
    "    prompt|model\n",
    "    )"
   ]
  },
  {
   "cell_type": "code",
   "execution_count": null,
   "metadata": {},
   "outputs": [],
   "source": [
    "question=\"What is the pdf about?\"\n",
    "while question !=\"\":\n",
    "    question = input(\"Enter your Question:...\\n\")\n",
    "    print(chain.invoke({\"question\":question}))"
   ]
  },
  {
   "cell_type": "code",
   "execution_count": 16,
   "metadata": {},
   "outputs": [],
   "source": [
    "# questions=[\n",
    "#     \"What is the title of the paper\", \n",
    "#     \"How many authors are there in the paper\",\n",
    "#     \"what is the plateform used to run the experiment\", \n",
    "#     \"summerize the methodology\"\n",
    "# ]\n",
    "\n",
    "# for question in questions:\n",
    "#     print(f\"question: {question}\")\n",
    "#     print(f\"Answer:{chain.invoke({'question':question})}\")\n",
    "#     print()"
   ]
  }
 ],
 "metadata": {
  "kernelspec": {
   "display_name": ".venv",
   "language": "python",
   "name": "python3"
  },
  "language_info": {
   "codemirror_mode": {
    "name": "ipython",
    "version": 3
   },
   "file_extension": ".py",
   "mimetype": "text/x-python",
   "name": "python",
   "nbconvert_exporter": "python",
   "pygments_lexer": "ipython3",
   "version": "3.11.4"
  }
 },
 "nbformat": 4,
 "nbformat_minor": 2
}
